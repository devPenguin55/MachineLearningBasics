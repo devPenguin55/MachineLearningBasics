{
 "cells": [
  {
   "cell_type": "code",
   "execution_count": 957,
   "id": "56971ac8",
   "metadata": {},
   "outputs": [],
   "source": [
    "import pandas as pd\n",
    "import numpy as np \n",
    "from sklearn.preprocessing import LabelEncoder\n",
    "from sklearn.model_selection import train_test_split\n",
    "import matplotlib.pyplot as plt\n",
    "from tqdm import tqdm\n",
    "from copy import deepcopy as copy"
   ]
  },
  {
   "cell_type": "code",
   "execution_count": 958,
   "id": "bc8311b5",
   "metadata": {},
   "outputs": [],
   "source": [
    "import numpy as np\n",
    "np.random.seed(1123)\n",
    "X = np.linspace(0, 10, 100).reshape(-1, 1)\n",
    "y = 2 * X.flatten() + np.random.normal(0, 1, size=100)\n",
    "\n",
    "\n",
    "X = (X - X.min()) / (X.max() - X.min())*2 - 1"
   ]
  },
  {
   "cell_type": "code",
   "execution_count": 959,
   "id": "1c87f78f",
   "metadata": {},
   "outputs": [],
   "source": [
    "xTrain, xTest, yTrain, yTest = train_test_split(X, y, test_size=0.2)"
   ]
  },
  {
   "cell_type": "code",
   "execution_count": 960,
   "id": "1d1c6254",
   "metadata": {},
   "outputs": [],
   "source": [
    "class Node:\n",
    "    def __init__(self, threshold=None, value=None, leftChild=None, rightChild=None, feature=None):\n",
    "        self.leftChild = leftChild\n",
    "        self.rightChild = rightChild\n",
    "        self.threshold = threshold\n",
    "        self.value = value\n",
    "        self.feature = feature\n",
    "\n",
    "class decisionTreeRegressor:\n",
    "    def __init__(self, minSamplesSplit, minSamplesLeaf, maxDepth, X, y, features=None):\n",
    "        '''\n",
    "        minSamplesSplit -> amt samples needed to consider node for being split\n",
    "        minSamplesLeaf -> amt samples needed in a leaf after a split\n",
    "        '''\n",
    "        self.minSamplesSplit = minSamplesSplit # amt samples needed to consider node for being split\n",
    "        self.minSamplesLeaf = minSamplesLeaf # amt samples needed in a leaf after a split\n",
    "        self.maxDepth = maxDepth\n",
    "        self.X = X\n",
    "        self.y = y\n",
    "\n",
    "        if features is None:\n",
    "            self.features = range(self.X.shape[1])\n",
    "        else:\n",
    "            self.features = features\n",
    "\n",
    "        self.root = Node()\n",
    "\n",
    "    def printTree(self):\n",
    "        def recursePrint(node, depth):\n",
    "            indent = \"  \" * depth\n",
    "            if node.value is not None:\n",
    "                print(f\"{indent}Leaf -> Predict {node.value}\")\n",
    "                return\n",
    "            print(f\"{indent}if x[{node.feature}] <= {node.threshold}:\")\n",
    "            recursePrint(node.leftChild, depth + 1)\n",
    "            print(f\"{indent}else:\")\n",
    "            recursePrint(node.rightChild, depth + 1)\n",
    "\n",
    "        recursePrint(self.root, 0)\n",
    "\n",
    "    def createTree(self, curNode:Node, depth, subset):\n",
    "        if depth > self.maxDepth or len(subset) <= self.minSamplesSplit:\n",
    "            return Node(value=self.meanTarget(subset))\n",
    "        parentMse = self.mse(subset)\n",
    "\n",
    "        logs = []\n",
    "        for feature in self.features:\n",
    "            for threshold in range(subset.shape[0]):\n",
    "                threshold = subset[threshold, feature]\n",
    "                leftSubset, rightSubset = self.split(subset, feature, threshold)\n",
    "\n",
    "                if len(leftSubset) >= self.minSamplesLeaf and len(rightSubset) >= self.minSamplesLeaf:\n",
    "                    weightedMse = (len(leftSubset)/len(subset))*(self.mse(leftSubset)) \\\n",
    "                    + (len(rightSubset)/len(subset))*(self.mse(rightSubset))\n",
    "                \n",
    "                    \n",
    "                    informationGain = parentMse - weightedMse\n",
    "                    logs.append((feature, threshold, informationGain))\n",
    "        \n",
    "        if not logs:\n",
    "            # becomes a leaf node\n",
    "            return Node(value=self.meanTarget(subset))\n",
    "\n",
    "        logs.sort(key=lambda x: x[-1], reverse=True)\n",
    "        best = logs[0]\n",
    "\n",
    "        leftSubset, rightSubset = self.split(subset, best[0], best[1])\n",
    "\n",
    "        curNode.threshold = best[1]\n",
    "        curNode.feature = best[0]\n",
    "\n",
    "        curNode.leftChild, curNode.rightChild = self.createTree(Node(), depth+1, leftSubset), self.createTree(Node(), depth+1, rightSubset)\n",
    "        return curNode\n",
    "\n",
    "    def meanTarget(self, subset):\n",
    "        return np.mean(subset[:, -1])\n",
    "\n",
    "    def split(self, subset, feature, threshold):\n",
    "        left = np.array(np.empty((0, subset.shape[1])))\n",
    "        right = np.array(np.empty((0, subset.shape[1])))\n",
    "        for row in range(subset.shape[0]):\n",
    "            item = subset[row, feature]\n",
    "            \n",
    "            if item <= threshold:\n",
    "                left = np.vstack((left, np.expand_dims(subset[row], 0)))\n",
    "            else:\n",
    "                right = np.vstack((right, np.expand_dims(subset[row], 0)))\n",
    "\n",
    "        return [left, right]\n",
    "    \n",
    "    def mse(self, subset):\n",
    "        # look at the y values\n",
    "        y = subset[:, -1]\n",
    "        mean = np.mean(y)\n",
    "        return np.mean((y-mean)**2)\n",
    "\n",
    "    def predict(self, x):\n",
    "        if x.shape == (self.X.shape[1],):\n",
    "            # only one data point to predict\n",
    "            x = np.expand_dims(x, 0)\n",
    "\n",
    "        predictions = np.array([])\n",
    "        for xInput in x:\n",
    "            curNode = self.root\n",
    "            while curNode.value is None:\n",
    "                # print(curNode.threshold, curNode.feature, curNode.value)\n",
    "                \n",
    "                if xInput[curNode.feature] >= curNode.threshold:\n",
    "                    curNode = curNode.rightChild\n",
    "                else:\n",
    "                    curNode = curNode.leftChild\n",
    "            predictions = np.append(predictions, curNode.value)\n",
    "        return predictions\n",
    "    \n",
    "    def fit(self):\n",
    "        subset = np.concatenate((self.X, self.y.reshape(-1, 1)), axis=1)\n",
    "\n",
    "        self.root = self.createTree(self.root, 0, subset)"
   ]
  },
  {
   "cell_type": "code",
   "execution_count": 961,
   "id": "acfc18d1",
   "metadata": {},
   "outputs": [],
   "source": [
    "dtr = decisionTreeRegressor(minSamplesSplit=3, minSamplesLeaf=3, maxDepth=10, X=xTrain, y=yTrain)\n",
    "dtr.fit()"
   ]
  },
  {
   "cell_type": "code",
   "execution_count": 962,
   "id": "4d96df65",
   "metadata": {},
   "outputs": [
    {
     "data": {
      "image/png": "[encoded data removed]",
      "text/plain": [
       "<Figure size 640x480 with 1 Axes>"
      ]
     },
     "metadata": {},
     "output_type": "display_data"
    }
   ],
   "source": [
    "plt.scatter(xTrain, yTrain, label='train')\n",
    "plt.scatter(xTrain, dtr.predict(xTrain), label='predictions')\n",
    "plt.legend()\n",
    "plt.show()"
   ]
  },
  {
   "cell_type": "code",
   "execution_count": 963,
   "id": "554a7090",
   "metadata": {},
   "outputs": [
    {
     "name": "stdout",
     "output_type": "stream",
     "text": [
      "if x[0] <= 0.05050505050505061:\n",
      "  if x[0] <= -0.5353535353535354:\n",
      "    if x[0] <= -0.9191919191919192:\n",
      "      Leaf -> Predict 0.16280187406409424\n",
      "    else:\n",
      "      if x[0] <= -0.6565656565656566:\n",
      "        if x[0] <= -0.797979797979798:\n",
      "          Leaf -> Predict 1.675611028159595\n",
      "        else:\n",
      "          Leaf -> Predict 2.433382626471264\n",
      "      else:\n",
      "        Leaf -> Predict 3.940816537478502\n",
      "  else:\n",
      "    if x[0] <= -0.3535353535353536:\n",
      "      if x[0] <= -0.43434343434343436:\n",
      "        Leaf -> Predict 5.654541521393766\n",
      "      else:\n",
      "        Leaf -> Predict 6.432017719158066\n",
      "    else:\n",
      "      if x[0] <= -0.11111111111111105:\n",
      "        if x[0] <= -0.17171717171717182:\n",
      "          if x[0] <= -0.2525252525252525:\n",
      "            Leaf -> Predict 8.325104323428812\n",
      "          else:\n",
      "            Leaf -> Predict 8.602593958113061\n",
      "        else:\n",
      "          Leaf -> Predict 8.153243551381408\n",
      "      else:\n",
      "        if x[0] <= -0.0505050505050505:\n",
      "          Leaf -> Predict 9.396808773269422\n",
      "        else:\n",
      "          Leaf -> Predict 9.936440834000459\n",
      "else:\n",
      "  if x[0] <= 0.39393939393939403:\n",
      "    if x[0] <= 0.23232323232323226:\n",
      "      if x[0] <= 0.11111111111111116:\n",
      "        Leaf -> Predict 11.872291125942104\n",
      "      else:\n",
      "        Leaf -> Predict 11.560838481512457\n",
      "    else:\n",
      "      if x[0] <= 0.2929292929292928:\n",
      "        Leaf -> Predict 13.760271883947338\n",
      "      else:\n",
      "        Leaf -> Predict 13.49895108243551\n",
      "  else:\n",
      "    if x[0] <= 0.7171717171717173:\n",
      "      if x[0] <= 0.5353535353535352:\n",
      "        Leaf -> Predict 15.234569555353666\n",
      "      else:\n",
      "        if x[0] <= 0.6161616161616164:\n",
      "          Leaf -> Predict 16.470684635974116\n",
      "        else:\n",
      "          Leaf -> Predict 15.683506899582273\n",
      "    else:\n",
      "      if x[0] <= 0.8787878787878789:\n",
      "        Leaf -> Predict 17.658706453269907\n",
      "      else:\n",
      "        if x[0] <= 0.9393939393939394:\n",
      "          Leaf -> Predict 19.532759053082255\n",
      "        else:\n",
      "          Leaf -> Predict 19.413666835823523\n"
     ]
    }
   ],
   "source": [
    "dtr.printTree()"
   ]
  },
  {
   "cell_type": "code",
   "execution_count": 964,
   "id": "d9d4bfdd",
   "metadata": {},
   "outputs": [
    {
     "name": "stderr",
     "output_type": "stream",
     "text": [
      "  0%|          | 0/100 [00:00<?, ?it/s]"
     ]
    },
    {
     "name": "stderr",
     "output_type": "stream",
     "text": [
      "100%|██████████| 100/100 [00:04<00:00, 21.82it/s]\n"
     ]
    },
    {
     "data": {
      "image/png": "[encoded data removed]",
      "text/plain": [
       "<Figure size 640x480 with 1 Axes>"
      ]
     },
     "metadata": {},
     "output_type": "display_data"
    }
   ],
   "source": [
    "class GradientBoostingTree:\n",
    "    def __init__(self, X, y, nEstimators, maxDepth, lr, minSamplesSplit, minSamplesLeaf):\n",
    "        self.X, self.y = X, y\n",
    "        self.nEstimators = nEstimators\n",
    "        self.maxDepth = maxDepth\n",
    "        self.lr = lr\n",
    "        self.minSamplesSplit, self.minSamplesLeaf = minSamplesSplit, minSamplesLeaf \n",
    "        self.treePath = []\n",
    "\n",
    "    def computeGradient(self, yTrue, yPred):\n",
    "        # pseudo-residuals\n",
    "        return yTrue - yPred\n",
    "    \n",
    "    def trainWeakLearnerOnResiduals(self, predictions):\n",
    "        residuals = self.computeGradient(self.y, predictions)\n",
    "        weakLearner = decisionTreeRegressor(self.minSamplesSplit, self.minSamplesLeaf, self.maxDepth, self.X, residuals)\n",
    "        weakLearner.fit()\n",
    "        self.treePath.append(copy(weakLearner))\n",
    "        return weakLearner.predict(self.X)\n",
    "    \n",
    "    def fit(self):\n",
    "        self.initPredictions = np.full(self.y.shape[0], np.mean(self.y))\n",
    "        for _ in tqdm(range(self.nEstimators)):\n",
    "            self.initPredictions += self.lr * self.trainWeakLearnerOnResiduals(self.initPredictions)  \n",
    "\n",
    "    def predict(self, x):\n",
    "        pred = np.mean(self.y)\n",
    "        for tree in self.treePath:\n",
    "            pred += self.lr * tree.predict(x)\n",
    "        return pred\n",
    "\n",
    "gbr = GradientBoostingTree(\n",
    "    X=xTrain, y=yTrain, \n",
    "    nEstimators=100, \n",
    "    maxDepth=1, \n",
    "    lr=0.05, \n",
    "    minSamplesSplit=3, \n",
    "    minSamplesLeaf=3\n",
    ")\n",
    "gbr.fit()\n",
    "plt.scatter(xTrain, yTrain, label='train')\n",
    "plt.scatter(xTrain, gbr.predict(xTrain), label='predictions')\n",
    "plt.legend()\n",
    "plt.show()"
   ]
  },
  {
   "cell_type": "code",
   "execution_count": 965,
   "id": "ddb42339",
   "metadata": {},
   "outputs": [
    {
     "data": {
      "text/plain": [
       "0.9876306347189969"
      ]
     },
     "execution_count": 965,
     "metadata": {},
     "output_type": "execute_result"
    }
   ],
   "source": [
    "yPred = dtr.predict(xTrain).astype(int)\n",
    "\n",
    "\n",
    "trainDTRError = np.mean((yTrain-yPred)**2)\n",
    "trainDTRError"
   ]
  },
  {
   "cell_type": "code",
   "execution_count": 966,
   "id": "d14fcac3",
   "metadata": {},
   "outputs": [
    {
     "data": {
      "text/plain": [
       "2.1159174125436504"
      ]
     },
     "execution_count": 966,
     "metadata": {},
     "output_type": "execute_result"
    }
   ],
   "source": [
    "yPred = dtr.predict(xTest).astype(int)\n",
    "testDTRError = np.mean((yTest-yPred)**2)\n",
    "testDTRError"
   ]
  },
  {
   "cell_type": "code",
   "execution_count": 967,
   "id": "7ca4f02c",
   "metadata": {},
   "outputs": [
    {
     "data": {
      "text/plain": [
       "0.9527021737170912"
      ]
     },
     "execution_count": 967,
     "metadata": {},
     "output_type": "execute_result"
    }
   ],
   "source": [
    "yPred = gbr.predict(xTrain).astype(int)\n",
    "\n",
    "trainGbrError = np.mean((yTrain-yPred)**2)\n",
    "trainGbrError"
   ]
  },
  {
   "cell_type": "code",
   "execution_count": 968,
   "id": "70b92231",
   "metadata": {},
   "outputs": [
    {
     "data": {
      "text/plain": [
       "2.098125479445465"
      ]
     },
     "execution_count": 968,
     "metadata": {},
     "output_type": "execute_result"
    }
   ],
   "source": [
    "yPred = gbr.predict(xTest).astype(int)\n",
    "testGbrError = np.mean((yTest-yPred)**2)\n",
    "testGbrError"
   ]
  },
  {
   "cell_type": "code",
   "execution_count": 969,
   "id": "f56f80b3",
   "metadata": {},
   "outputs": [
    {
     "name": "stdout",
     "output_type": "stream",
     "text": [
      "\n",
      "                    DTC           GBR\n",
      "Train Error    ->   0.99          0.95\n",
      "Test  Error    ->   2.12          2.10\n",
      "\n"
     ]
    }
   ],
   "source": [
    "print(f'''\n",
    "                    DTC           GBR\n",
    "Train Error    ->   {format(trainDTRError, \".2f\")}          {format(trainGbrError, \".2f\")}\n",
    "Test  Error    ->   {format(testDTRError, \".2f\")}          {format(testGbrError, \".2f\")}\n",
    "''')"
   ]
  },
  {
   "cell_type": "code",
   "execution_count": null,
   "id": "03b07a72",
   "metadata": {},
   "outputs": [],
   "source": []
  }
 ],
 "metadata": {
  "kernelspec": {
   "display_name": "Python 3",
   "language": "python",
   "name": "python3"
  },
  "language_info": {
   "codemirror_mode": {
    "name": "ipython",
    "version": 3
   },
   "file_extension": ".py",
   "mimetype": "text/x-python",
   "name": "python",
   "nbconvert_exporter": "python",
   "pygments_lexer": "ipython3",
   "version": "3.12.5"
  }
 },
 "nbformat": 4,
 "nbformat_minor": 5
}
