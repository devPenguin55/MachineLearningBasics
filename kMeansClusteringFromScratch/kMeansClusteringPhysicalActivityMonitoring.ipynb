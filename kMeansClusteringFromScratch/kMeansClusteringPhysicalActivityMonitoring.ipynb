{
 "cells": [
  {
   "cell_type": "code",
   "execution_count": null,
   "id": "3c963b44",
   "metadata": {},
   "outputs": [],
   "source": [
    "import pandas as pd\n",
    "import numpy as np\n",
    "import matplotlib.pyplot as plt\n",
    "from IPython.display import clear_output\n",
    "import time as t\n",
    "import random as r\n",
    "from sklearn.impute import SimpleImputer\n",
    "from tqdm import tqdm"
   ]
  },
  {
   "cell_type": "code",
   "execution_count": null,
   "id": "c5922aa1",
   "metadata": {},
   "outputs": [],
   "source": [
    "trainCsv = pd.read_csv('Physical_Activity_Monitoring_unlabeled.csv')"
   ]
  },
  {
   "cell_type": "code",
   "execution_count": null,
   "id": "8f191505",
   "metadata": {},
   "outputs": [],
   "source": [
    "imputer = SimpleImputer(missing_values=np.nan, strategy='mean')\n",
    "X = imputer.fit_transform(trainCsv)\n",
    "X, indexes = X[:, :-1], X[:, -1]\n",
    "\n"
   ]
  },
  {
   "cell_type": "code",
   "execution_count": null,
   "id": "264a3a0b",
   "metadata": {},
   "outputs": [],
   "source": [
    "class KMeansClustering:\n",
    "    def __init__(self, points, centroidAmount):\n",
    "        self.points = points\n",
    "        self.centroidAmount = centroidAmount\n",
    "        self.createCentroids()\n",
    "        \n",
    "    def createCentroids(self):\n",
    "        self.centroids = np.empty((0, self.points.shape[1]))\n",
    "        for _ in range(self.centroidAmount):\n",
    "            centroid = []\n",
    "            for colIdx in range(self.points.shape[1]):\n",
    "                col = self.points[:, colIdx]\n",
    "                centroid.append(np.random.randint(int(col.min()), int(col.max())+1))\n",
    "            self.centroids = np.vstack((self.centroids, tuple(centroid)))\n",
    "\n",
    "\n",
    "    def computeClosestCentroids(self):\n",
    "        dists = np.linalg.norm(\n",
    "            self.points[:, np.newaxis, :] - self.centroids[np.newaxis, :, :],\n",
    "            axis=2\n",
    "        )\n",
    "        return np.argmin(dists, 1)\n",
    "\n",
    "        \n",
    "    def fit(self):\n",
    "        while True:\n",
    "            closestCentroids = self.computeClosestCentroids()\n",
    "\n",
    "            oldCentroids = self.centroids.copy()\n",
    "            for centroid in range(self.centroidAmount):\n",
    "                assignedPoints = self.points[closestCentroids == centroid]\n",
    "\n",
    "                if len(assignedPoints) > 0:\n",
    "                    self.centroids[centroid] = np.mean(assignedPoints, axis=0)\n",
    "            newCentroids = self.centroids.copy()\n",
    "\n",
    "            if np.allclose(oldCentroids, newCentroids):\n",
    "                break"
   ]
  },
  {
   "cell_type": "code",
   "execution_count": null,
   "id": "b02d89c7",
   "metadata": {},
   "outputs": [],
   "source": [
    "class ElbowMethod:\n",
    "    def __init__(self, points, kMax):\n",
    "        self.points = points\n",
    "        self.kMax = kMax\n",
    "\n",
    "    def plotGraph(self):\n",
    "        allKs = list(range(1, self.kMax+1))\n",
    "        kMSERecords = []\n",
    "        for k in tqdm(list(range(1, self.kMax+1))):\n",
    "            cluster = KMeansClustering(points=self.points, centroidAmount=k)\n",
    "            cluster.fit()\n",
    "            clusterClosestCentroids = cluster.computeClosestCentroids()\n",
    "            # for each point, find the mse and sum\n",
    "            MSE = 0\n",
    "            for centroid in range(k):\n",
    "                matchingPoints = self.points[clusterClosestCentroids == centroid]\n",
    "                if len(matchingPoints) > 0:\n",
    "                    MSE += np.mean(np.sum((matchingPoints - cluster.centroids[centroid])**2, axis=1))\n",
    "            kMSERecords.append(MSE)\n",
    "\n",
    "        plt.plot(allKs, kMSERecords)\n",
    "        plt.show()\n",
    "\n",
    "\n",
    "elbow = ElbowMethod(points=X, kMax=10)\n",
    "elbow.plotGraph()"
   ]
  },
  {
   "cell_type": "code",
   "execution_count": null,
   "id": "e272225e",
   "metadata": {},
   "outputs": [],
   "source": []
  },
  {
   "cell_type": "code",
   "execution_count": null,
   "id": "d688e16f",
   "metadata": {},
   "outputs": [],
   "source": [
    "cluster = KMeansClustering(points=X, centroidAmount=6)\n",
    "cluster.fit()\n",
    "\n",
    "import csv\n",
    "\n",
    "with open('predictions.csv', 'w', newline='') as file:\n",
    "    writer = csv.writer(file)\n",
    "    writer.writerow(['Index', 'activityID'])\n",
    "    for index, pred in zip(list(range(0, X.shape[0])), cluster.computeClosestCentroids()):\n",
    "        writer.writerow([int(index), pred])\n"
   ]
  },
  {
   "cell_type": "code",
   "execution_count": null,
   "id": "34fb6eea",
   "metadata": {},
   "outputs": [],
   "source": []
  }
 ],
 "metadata": {
  "kernelspec": {
   "display_name": "Python 3",
   "language": "python",
   "name": "python3"
  },
  "language_info": {
   "codemirror_mode": {
    "name": "ipython",
    "version": 3
   },
   "file_extension": ".py",
   "mimetype": "text/x-python",
   "name": "python",
   "nbconvert_exporter": "python",
   "pygments_lexer": "ipython3",
   "version": "3.12.5"
  }
 },
 "nbformat": 4,
 "nbformat_minor": 5
}
